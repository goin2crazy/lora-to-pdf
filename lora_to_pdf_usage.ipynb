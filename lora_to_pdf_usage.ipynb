{
  "nbformat": 4,
  "nbformat_minor": 0,
  "metadata": {
    "colab": {
      "provenance": [],
      "gpuType": "T4",
      "toc_visible": true,
      "mount_file_id": "1ODpPClWReSn5aHJTJfGlpowDXLv5qWaQ",
      "authorship_tag": "ABX9TyNaY6cb0fL1bnnMs+Kp8dxK",
      "include_colab_link": true
    },
    "kernelspec": {
      "name": "python3",
      "display_name": "Python 3"
    },
    "language_info": {
      "name": "python"
    },
    "accelerator": "GPU"
  },
  "cells": [
    {
      "cell_type": "markdown",
      "metadata": {
        "id": "view-in-github",
        "colab_type": "text"
      },
      "source": [
        "<a href=\"https://colab.research.google.com/github/goin2crazy/pdf_to_lora/blob/master/lora_to_pdf_usage.ipynb\" target=\"_parent\"><img src=\"https://colab.research.google.com/assets/colab-badge.svg\" alt=\"Open In Colab\"/></a>"
      ]
    },
    {
      "cell_type": "markdown",
      "source": [
        "# Install Repo"
      ],
      "metadata": {
        "id": "Od8H0WSEm9Ci"
      }
    },
    {
      "cell_type": "code",
      "source": [
        "! git clone https://github.com/goin2crazy/pdf_to_lora\n",
        "\n",
        "%cd pdf_to_lora/\n",
        "! pip install -q ."
      ],
      "metadata": {
        "colab": {
          "base_uri": "https://localhost:8080/"
        },
        "id": "4W7pqbMNRd1E",
        "outputId": "d9c62bf2-c641-431b-a4fe-4b3c0ad808ec"
      },
      "execution_count": null,
      "outputs": [
        {
          "output_type": "stream",
          "name": "stdout",
          "text": [
            "Cloning into 'pdf_to_lora'...\n",
            "remote: Enumerating objects: 111, done.\u001b[K\n",
            "remote: Counting objects: 100% (111/111), done.\u001b[K\n",
            "remote: Compressing objects: 100% (73/73), done.\u001b[K\n",
            "remote: Total 111 (delta 43), reused 95 (delta 30), pack-reused 0\u001b[K\n",
            "Receiving objects: 100% (111/111), 9.35 MiB | 17.45 MiB/s, done.\n",
            "Resolving deltas: 100% (43/43), done.\n",
            "/content/pdf_to_lora\n",
            "  Preparing metadata (setup.py) ... \u001b[?25l\u001b[?25hdone\n",
            "\u001b[2K     \u001b[90m━━━━━━━━━━━━━━━━━━━━━━━━━━━━━━━━━━━━━━━━\u001b[0m \u001b[32m542.1/542.1 kB\u001b[0m \u001b[31m2.7 MB/s\u001b[0m eta \u001b[36m0:00:00\u001b[0m\n",
            "\u001b[2K     \u001b[90m━━━━━━━━━━━━━━━━━━━━━━━━━━━━━━━━━━━━━━━━\u001b[0m \u001b[32m251.6/251.6 kB\u001b[0m \u001b[31m6.4 MB/s\u001b[0m eta \u001b[36m0:00:00\u001b[0m\n",
            "\u001b[2K     \u001b[90m━━━━━━━━━━━━━━━━━━━━━━━━━━━━━━━━━━━━━━━━\u001b[0m \u001b[32m3.5/3.5 MB\u001b[0m \u001b[31m18.0 MB/s\u001b[0m eta \u001b[36m0:00:00\u001b[0m\n",
            "\u001b[2K     \u001b[90m━━━━━━━━━━━━━━━━━━━━━━━━━━━━━━━━━━━━━━━━\u001b[0m \u001b[32m116.3/116.3 kB\u001b[0m \u001b[31m10.9 MB/s\u001b[0m eta \u001b[36m0:00:00\u001b[0m\n",
            "\u001b[2K     \u001b[90m━━━━━━━━━━━━━━━━━━━━━━━━━━━━━━━━━━━━━━━━\u001b[0m \u001b[32m64.9/64.9 kB\u001b[0m \u001b[31m4.8 MB/s\u001b[0m eta \u001b[36m0:00:00\u001b[0m\n",
            "\u001b[?25h"
          ]
        }
      ]
    },
    {
      "cell_type": "markdown",
      "source": [
        "# Preview Document"
      ],
      "metadata": {
        "id": "L2JH8XsVm0yf"
      }
    },
    {
      "cell_type": "code",
      "source": [
        "! python base.py --doc_path \"/content/pdf_to_lora/example/h.pdf\" --mode \"preview\" --page 3"
      ],
      "metadata": {
        "id": "ME4ekuAReSu0"
      },
      "execution_count": null,
      "outputs": []
    },
    {
      "cell_type": "markdown",
      "source": [
        "# Train LoRA"
      ],
      "metadata": {
        "id": "E4my4pfMnBGW"
      }
    },
    {
      "cell_type": "code",
      "source": [
        "! python base.py --doc_path \"/content/pdf_to_lora/example/h.pdf\" --mode \"train\" --extra_words \"http://eduportal.uz\" --num_epoch 5 --batch_size 1 --chunk_size 170 --save_steps 500"
      ],
      "metadata": {
        "id": "268Uxx-czRQJ"
      },
      "execution_count": null,
      "outputs": []
    },
    {
      "cell_type": "markdown",
      "source": [
        "# Inference"
      ],
      "metadata": {
        "id": "lBSsIffBnQHW"
      }
    },
    {
      "cell_type": "code",
      "source": [
        "! python base.py --mode 'inference' --model_path \"[PASTE THERE MODEL CHECKPOINT PATH]\" --repeat_penalty 10.5"
      ],
      "metadata": {
        "id": "vfiQa_vcl1fB"
      },
      "execution_count": null,
      "outputs": []
    }
  ]
}